{
 "cells": [
  {
   "cell_type": "code",
   "execution_count": 7,
   "id": "c2da371d",
   "metadata": {},
   "outputs": [],
   "source": [
    "import sqlite3\n",
    "import pandas as pd\n",
    "import os\n",
    "import shutil"
   ]
  },
  {
   "cell_type": "code",
   "execution_count": 9,
   "id": "190919ea",
   "metadata": {},
   "outputs": [
    {
     "data": {
      "text/plain": [
       "'data_siswa.db'"
      ]
     },
     "execution_count": 9,
     "metadata": {},
     "output_type": "execute_result"
    }
   ],
   "source": [
    "if os.path.exists(\"databaseku.db\"):\n",
    "    os.remove(\"databaseku.db\")\n",
    "else:\n",
    "    print(\"The file does not exist\")\n",
    "\n",
    "shutil.copyfile(\"data_siswa_ori.db\", \"data_siswa.db\")"
   ]
  }
 ],
 "metadata": {
  "kernelspec": {
   "display_name": "Python 3 (ipykernel)",
   "language": "python",
   "name": "python3"
  },
  "language_info": {
   "codemirror_mode": {
    "name": "ipython",
    "version": 3
   },
   "file_extension": ".py",
   "mimetype": "text/x-python",
   "name": "python",
   "nbconvert_exporter": "python",
   "pygments_lexer": "ipython3",
   "version": "3.9.7"
  }
 },
 "nbformat": 4,
 "nbformat_minor": 5
}
